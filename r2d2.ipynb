{
  "nbformat": 4,
  "nbformat_minor": 0,
  "metadata": {
    "colab": {
      "provenance": [],
      "collapsed_sections": [
        "rLlgEFpllcGP"
      ],
      "authorship_tag": "ABX9TyMD2GPZlCBMACqkcpo0Guuz",
      "include_colab_link": true
    },
    "kernelspec": {
      "name": "python3",
      "display_name": "Python 3"
    },
    "language_info": {
      "name": "python"
    }
  },
  "cells": [
    {
      "cell_type": "markdown",
      "metadata": {
        "id": "view-in-github",
        "colab_type": "text"
      },
      "source": [
        "<a href=\"https://colab.research.google.com/github/antsuarz/r2d2-colab/blob/main/r2d2.ipynb\" target=\"_parent\"><img src=\"https://colab.research.google.com/assets/colab-badge.svg\" alt=\"Open In Colab\"/></a>"
      ]
    },
    {
      "cell_type": "markdown",
      "source": [
        "# Haz Click aquí para cargar el ejercicio 😀"
      ],
      "metadata": {
        "id": "rLlgEFpllcGP"
      }
    },
    {
      "cell_type": "code",
      "source": [
        "passwords = [\"password\", \"123456\", \"12345678\", \"1234\", \"qwerty\", \"12345\", \"dragon\", \"pussy\", \"baseball\", \"football\", \"letmein\", \"monkey\", \"696969\", \"abc123\", \"mustang\", \"michael\", \"shadow\", \"master\", \"jennifer\", \"111111\", \"2000\", \"jordan\", \"superman\", \"harley\", \"1234567\", \"fuckme\", \"hunter\", \"kenobi\", \"trustno1\", \"ranger\", \"buster\", \"thomas\", \"tigger\", \"robert\", \"soccer\", \"hansolo\", \"batman\", \"test\", \"pass\", \"killer\", \"hockey\", \"george\", \"charlie\", \"andrew\", \"michelle\", \"love\", \"sunshine\", \"jessica\", \"asshole\", \"6969\", \"pepper\", \"daniel\", \"access\", \"123456789\", \"654321\", \"joshua\", \"maggie\", \"starwars\", \"silver\", \"william\", \"dallas\", \"yankees\", \"123123\", \"ashley\", \"666666\", \"hello\", \"amanda\", \"orange\", \"biteme\", \"freedom\", \"computer\", \"sexy\", \"18436572\", \"nicole\", \"ginger\", \"heather\", \"hammer\", \"summer\", \"corvette\", \"taylor\", \"fucker\", \"austin\", \"1111\", \"merlin\", \"matthew\", \"121212\", \"golfer\", \"cheese\", \"princess\", \"gandalf\", \"chelsea\", \"patrick\", \"richard\", \"diamond\", \"yellow\", \"bigdog\", \"secret\", \"asdfgh\", \"sparky\", \"cowboy\"]\n"
      ],
      "metadata": {
        "id": "10dABnfik2DV"
      },
      "execution_count": 7,
      "outputs": []
    },
    {
      "cell_type": "code",
      "execution_count": 8,
      "metadata": {
        "id": "vpLqTCXNjNNH"
      },
      "outputs": [],
      "source": [
        "\n",
        "\n",
        "def print_r2():\n",
        "    print(r\"\"\"____________________________________________________________\n",
        "                   _______      _____   ______     _____\n",
        "          ___     |_   __ \\    / ___ `.|_   _ `.  / ___ `.\n",
        "         / ()\\      | |__) |  |_/___) |  | | `. \\|_/___) |\n",
        "       _|_____|_    |  __ /    .'____.'  | |  | | .'____.'\n",
        "      | | === | |  _| |  \\ \\_ / /_____  _| |_.' // /_____\n",
        "      |_|  O  |_| |____| |___||_______||______.' |_______|\n",
        "       ||  O  ||\n",
        "       ||__*__||\n",
        "      |~ \\___/ ~|\n",
        "      /=\\ /=\\ /=\\\n",
        "______[_]_[_]_[_]___________________________________________\"\"\")\n",
        "\n",
        "\n",
        "def print_version():\n",
        "    print(\"\")\n",
        "    print(\"V-1.0.0 - Campus Tic 2024 - University of Oviedo\")\n",
        "    print(\"This software uses 'the 100k worst passwords list' defined by OWASP in:\")\n",
        "    print(r\"https://github.com/OWASP/passfault/blob/master/wordlists/wordlists/10k-worst-passwords.txt\")\n",
        "    print(\"\")\n",
        "    print(\"____________________________________________________________\")\n",
        "\n",
        "def print_index(index):\n",
        "    print(str(index) +\"% Completed...\")\n",
        "\n",
        "def r2d2():\n",
        "  print_r2()\n",
        "  print_version()\n",
        "  while True:\n",
        "        username = input(\"Please, enter a username to check its password:\")\n",
        "        password = \"\"\n",
        "        index = 0\n",
        "        print(\"Trying passwords for user: \"+username)\n",
        "        for line in passwords:\n",
        "            index += 1\n",
        "            if(index == 2500 or index == 5000 or index == 75000 or index == 10000):\n",
        "                print_index(index/100)\n",
        "            line = line.strip()\n",
        "            if line == \"18436572\" and username == \"chevy\" or line == \"kenobi\" and username == \"ben\" or line == \"hansolo\" and username == \"leia\" or line == \"maggie\" and username == \"matt\" or line == \"gandalf\" and username == \"baggins\" or line == \"qwerty\" and username == \"sholes\":\n",
        "                print(\"Coincidence Found!\")\n",
        "                password = line\n",
        "        if password == \"\":\n",
        "            print(\"____________________________________________________________\")\n",
        "            print(\"Not founded password for user: \"+username)\n",
        "        else:\n",
        "            print(\"__________________________PASSWORD__________________________\")\n",
        "            print(\"Founded password for user: \"+username+ \" ----> \" + password)\n",
        "        print(\"____________________________________________________________\")\n",
        "\n",
        ""
      ]
    },
    {
      "cell_type": "markdown",
      "source": [
        "# Ejecutar R2D2 🤖\n"
      ],
      "metadata": {
        "id": "XrZ_yDyfmUIa"
      }
    },
    {
      "cell_type": "code",
      "source": [
        "if __name__ == '__main__':\n",
        "    r2d2()"
      ],
      "metadata": {
        "id": "umHqHepTmbiU"
      },
      "execution_count": null,
      "outputs": []
    }
  ]
}